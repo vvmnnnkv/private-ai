{
  "nbformat": 4,
  "nbformat_minor": 0,
  "metadata": {
    "colab": {
      "name": "Section 4 - Encrypted DB Project.ipynb",
      "version": "0.3.2",
      "provenance": [],
      "collapsed_sections": [],
      "include_colab_link": true
    },
    "kernelspec": {
      "name": "python3",
      "display_name": "Python 3"
    }
  },
  "cells": [
    {
      "cell_type": "markdown",
      "metadata": {
        "id": "view-in-github",
        "colab_type": "text"
      },
      "source": [
        "<a href=\"https://colab.research.google.com/github/vvmnnnkv/private-ai/blob/master/Section%204%20-%20Encrypted%20DB%20Project.ipynb\" target=\"_parent\"><img src=\"https://colab.research.google.com/assets/colab-badge.svg\" alt=\"Open In Colab\"/></a>"
      ]
    },
    {
      "cell_type": "markdown",
      "metadata": {
        "id": "CwJQ2DjyIm61",
        "colab_type": "text"
      },
      "source": [
        "# Encrypted Database Project\n",
        "\n",
        "Simple key-value DB where data is stored on workers in encrypted form."
      ]
    },
    {
      "cell_type": "code",
      "metadata": {
        "id": "DIHQv_HxdUOu",
        "colab_type": "code",
        "colab": {}
      },
      "source": [
        "!pip install syft"
      ],
      "execution_count": 0,
      "outputs": []
    },
    {
      "cell_type": "code",
      "metadata": {
        "id": "DizW-pU3dWiD",
        "colab_type": "code",
        "colab": {
          "base_uri": "https://localhost:8080/",
          "height": 105
        },
        "outputId": "85dfd1ec-eaca-4d73-b9a1-226cf42bcc07"
      },
      "source": [
        "import torch\n",
        "import syft as sy\n",
        "\n",
        "hook = sy.TorchHook(torch)"
      ],
      "execution_count": 2,
      "outputs": [
        {
          "output_type": "stream",
          "text": [
            "WARNING: Logging before flag parsing goes to stderr.\n",
            "W0711 13:00:02.451985 140630755276672 secure_random.py:26] Falling back to insecure randomness since the required custom op could not be found for the installed version of TensorFlow. Fix this by compiling custom ops. Missing file was '/usr/local/lib/python3.6/dist-packages/tf_encrypted/operations/secure_random/secure_random_module_tf_1.14.0.so'\n",
            "W0711 13:00:02.472435 140630755276672 deprecation_wrapper.py:119] From /usr/local/lib/python3.6/dist-packages/tf_encrypted/session.py:26: The name tf.Session is deprecated. Please use tf.compat.v1.Session instead.\n",
            "\n"
          ],
          "name": "stderr"
        }
      ]
    },
    {
      "cell_type": "code",
      "metadata": {
        "id": "WF2Ey8o2il_y",
        "colab_type": "code",
        "colab": {}
      },
      "source": [
        "class SyDatabase:\n",
        "  \n",
        "  def __init__(self, hook):\n",
        "    num_nodes = 2\n",
        "    self.nodes = [ sy.VirtualWorker(hook, id=\"node #%d\" % i) for i in range(num_nodes) ]\n",
        "    self.crypto_provider = sy.VirtualWorker(hook, id=\"crypto_provider\")\n",
        "    self.db = []\n",
        "  \n",
        "  def encrypt(self, key, value = \"\"):\n",
        "    key_len = len(key)\n",
        "    str_data = key + value\n",
        "    num_data = [key_len] + list(map(ord, list(str_data)))\n",
        "    tensor = torch.tensor(num_data)\n",
        "    tensor = tensor.fix_precision().share(*self.nodes, crypto_provider = self.crypto_provider)\n",
        "    return tensor\n",
        "  \n",
        "  def decrypt(self, tensor):\n",
        "    key_len = int(tensor[0].get().float_precision())\n",
        "    return ''.join(map(chr, tensor[key_len + 1:].get().float_precision()))\n",
        "  \n",
        "  def match_key(self, tensor, key_tensor):\n",
        "    key_len = int(key_tensor[0].get().float_precision())\n",
        "    if tensor.shape[0] >= key_len:\n",
        "      comp = tensor[0:key_len + 1] == key_tensor\n",
        "      return comp.get().float_precision().sum() == key_len + 1\n",
        "    return False\n",
        "  \n",
        "  def get_index(self, key):\n",
        "    key_tensor = self.encrypt(key)\n",
        "    for i, t in enumerate(self.db):\n",
        "      if self.match_key(t, key_tensor):\n",
        "        return i\n",
        "    return None\n",
        "  \n",
        "  def get(self, key):\n",
        "    idx = self.get_index(key)\n",
        "    if idx != None: return self.decrypt(self.db[idx])\n",
        "    return None\n",
        "  \n",
        "  def set(self, key, value):\n",
        "    self.db.append(self.encrypt(key, value))\n",
        "  \n",
        "  def delete(self, key):\n",
        "    idx = self.get_index(key)\n",
        "    if idx != None: del self.db[idx]"
      ],
      "execution_count": 0,
      "outputs": []
    },
    {
      "cell_type": "code",
      "metadata": {
        "id": "HDA1I4QdziFg",
        "colab_type": "code",
        "colab": {
          "base_uri": "https://localhost:8080/",
          "height": 68
        },
        "outputId": "204d92f8-9f57-468d-8791-6244859ab494"
      },
      "source": [
        "db = SyDatabase(hook)\n",
        "db.set(\"test\", \"the secret value\")\n",
        "print(\"existing value: \", db.get(\"test\"))\n",
        "print(\"non-existing value: \", db.get(\"test-lala\"))\n",
        "db.delete(\"test-lala\")\n",
        "db.delete(\"test\")\n",
        "print(\"deleted value: \", db.get(\"test\"))\n"
      ],
      "execution_count": 4,
      "outputs": [
        {
          "output_type": "stream",
          "text": [
            "existing value:  the secret value\n",
            "non-existing value:  None\n",
            "deleted value:  None\n"
          ],
          "name": "stdout"
        }
      ]
    },
    {
      "cell_type": "code",
      "metadata": {
        "id": "2-rZJyp5G2lN",
        "colab_type": "code",
        "colab": {}
      },
      "source": [
        ""
      ],
      "execution_count": 0,
      "outputs": []
    }
  ]
}