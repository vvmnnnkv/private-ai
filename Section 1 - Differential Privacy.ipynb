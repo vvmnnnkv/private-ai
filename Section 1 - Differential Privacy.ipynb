{
  "nbformat": 4,
  "nbformat_minor": 0,
  "metadata": {
    "colab": {
      "name": "Section 1 - Differential Privacy",
      "version": "0.3.2",
      "provenance": [],
      "collapsed_sections": [],
      "include_colab_link": true
    },
    "kernelspec": {
      "name": "swift",
      "display_name": "Swift"
    }
  },
  "cells": [
    {
      "cell_type": "markdown",
      "metadata": {
        "id": "view-in-github",
        "colab_type": "text"
      },
      "source": [
        "<a href=\"https://colab.research.google.com/github/vvmnnnkv/private-ai/blob/master/Section%201%20-%20Differential%20Privacy.ipynb\" target=\"_parent\"><img src=\"https://colab.research.google.com/assets/colab-badge.svg\" alt=\"Open In Colab\"/></a>"
      ]
    },
    {
      "cell_type": "markdown",
      "metadata": {
        "id": "nsB2xXaZ0WrZ",
        "colab_type": "text"
      },
      "source": [
        "# Project: Generate Parallel Databases\n"
      ]
    },
    {
      "cell_type": "code",
      "metadata": {
        "id": "kZRlD4utdPuX",
        "colab_type": "code",
        "colab": {}
      },
      "source": [
        "import Foundation\n",
        "import TensorFlow"
      ],
      "execution_count": 0,
      "outputs": []
    },
    {
      "cell_type": "code",
      "metadata": {
        "id": "lJHb6E6cijwC",
        "colab_type": "code",
        "colab": {}
      },
      "source": [
        "typealias Database = Tensor<Float>\n",
        "typealias Query = (_ db: Database) -> Float\n",
        "\n",
        "/// Return vector of 0 and 1 from uniform distibution\n",
        "func createRandomBinaryVector(of shape: TensorShape, balance: Float? = 0.5) -> Database {\n",
        "  return Tensor<Float>(Tensor(randomUniform: shape) .> (balance ?? 0.5))\n",
        "}\n"
      ],
      "execution_count": 0,
      "outputs": []
    },
    {
      "cell_type": "code",
      "metadata": {
        "id": "Lxk2Imhwkqdt",
        "colab_type": "code",
        "colab": {}
      },
      "source": [
        "/// Create parallel DB from original DB\n",
        "func createParallelDb<T>(from tensor: Tensor<T>, dropping index: Int) -> Tensor<T> {\n",
        "  var top = tensor.slice(lowerBounds: [0], upperBounds: [index])\n",
        "  var bottom = tensor.slice(lowerBounds: [index + 1], upperBounds: [tensor.shape[0]])\n",
        "  return top.concatenated(with: bottom)\n",
        "}"
      ],
      "execution_count": 0,
      "outputs": []
    },
    {
      "cell_type": "code",
      "metadata": {
        "id": "9OtjnUz2tKj2",
        "colab_type": "code",
        "colab": {}
      },
      "source": [
        "/// Create all possible parallel DBs\n",
        "func createParallelDbs<T>(from tensor: Tensor<T>) -> Array<Tensor<T>> {\n",
        "  var result = Array<Tensor<T>>()\n",
        "  for i in 0 ..< tensor.shape[0] {\n",
        "    let pdb = createParallelDb(from: tensor, dropping: i)\n",
        "    result.append(pdb)\n",
        "  }\n",
        "  return result\n",
        "}"
      ],
      "execution_count": 0,
      "outputs": []
    },
    {
      "cell_type": "code",
      "metadata": {
        "id": "Rue_090IvMSA",
        "colab_type": "code",
        "colab": {}
      },
      "source": [
        "/// Create DB and parallal DBs for given number of entries\n",
        "func createDbAndParallels(entries: Int, balance: Float? = 0.5) -> (db: Database, pdbs: Array<Database>) {\n",
        "  let db = createRandomBinaryVector(of: [entries], balance: balance)\n",
        "  let pdbs = createParallelDbs(from: db)\n",
        "  return (db: db, pdbs: pdbs)\n",
        "}"
      ],
      "execution_count": 0,
      "outputs": []
    },
    {
      "cell_type": "code",
      "metadata": {
        "id": "NjQ3MGBtwGK4",
        "colab_type": "code",
        "colab": {}
      },
      "source": [
        "var (db, dbs) = createDbAndParallels(entries: 1000)"
      ],
      "execution_count": 0,
      "outputs": []
    },
    {
      "cell_type": "code",
      "metadata": {
        "id": "A9SGZiD0vrRG",
        "colab_type": "code",
        "outputId": "6223efeb-c05e-4b69-da65-54f05e9fb28a",
        "colab": {
          "base_uri": "https://localhost:8080/",
          "height": 67
        }
      },
      "source": [
        "print(db.shape)\n",
        "print(dbs.count)\n",
        "print(dbs[0].shape)"
      ],
      "execution_count": 7,
      "outputs": [
        {
          "output_type": "stream",
          "text": [
            "[1000]\r\n",
            "1000\r\n",
            "[999]\r\n"
          ],
          "name": "stdout"
        }
      ]
    },
    {
      "cell_type": "markdown",
      "metadata": {
        "id": "oV_OGDB1wFxJ",
        "colab_type": "text"
      },
      "source": [
        "# Project: Evaluating the Privacy of a Function"
      ]
    },
    {
      "cell_type": "code",
      "metadata": {
        "id": "4Z8AQURDwIXt",
        "colab_type": "code",
        "colab": {}
      },
      "source": [
        "/// Calculate empirical sensitivity of a query\n",
        "func sensitivity(of query: Query, with entries: Int, balance: Float? = 0.5) -> Float {\n",
        "  var (db, pdbs) = createDbAndParallels(entries: entries, balance: balance)\n",
        "  let dbQuery = query(db)\n",
        "  var maxDifference:Float = 0\n",
        "  for pdb in pdbs {\n",
        "    let pdbQuery = query(pdb)\n",
        "    let difference = abs(dbQuery - pdbQuery)\n",
        "    if (maxDifference < difference) {\n",
        "      maxDifference = difference\n",
        "    }\n",
        "  }\n",
        "  return maxDifference\n",
        "}"
      ],
      "execution_count": 0,
      "outputs": []
    },
    {
      "cell_type": "code",
      "metadata": {
        "id": "gYGsjMHUxsOe",
        "colab_type": "code",
        "colab": {}
      },
      "source": [
        "/// Sum query\n",
        "let sumQuery:Query = { db in db.sum().scalar! }"
      ],
      "execution_count": 0,
      "outputs": []
    },
    {
      "cell_type": "code",
      "metadata": {
        "id": "8KnWEG_LyWpG",
        "colab_type": "code",
        "outputId": "1b90ae80-14c5-4b75-b8c6-9dfde3f2fea4",
        "colab": {
          "base_uri": "https://localhost:8080/",
          "height": 34
        }
      },
      "source": [
        "sensitivity(of: sumQuery, with: 5000)"
      ],
      "execution_count": 10,
      "outputs": [
        {
          "output_type": "execute_result",
          "data": {
            "text/plain": [
              "1.0\n"
            ]
          },
          "metadata": {
            "tags": []
          },
          "execution_count": 10
        }
      ]
    },
    {
      "cell_type": "code",
      "metadata": {
        "id": "Rj0Fn-lcy7DW",
        "colab_type": "code",
        "colab": {}
      },
      "source": [
        "/// Mean query\n",
        "let meanQuery:Query = { db in db.mean().scalar! }"
      ],
      "execution_count": 0,
      "outputs": []
    },
    {
      "cell_type": "code",
      "metadata": {
        "id": "vhFFYoMwzHS2",
        "colab_type": "code",
        "outputId": "b53684ce-c098-4d49-99af-935b35392f3a",
        "colab": {
          "base_uri": "https://localhost:8080/",
          "height": 34
        }
      },
      "source": [
        "sensitivity(of: meanQuery, with: 5000, balance: 0.5)"
      ],
      "execution_count": 12,
      "outputs": [
        {
          "output_type": "execute_result",
          "data": {
            "text/plain": [
              "0.0001001358\n"
            ]
          },
          "metadata": {
            "tags": []
          },
          "execution_count": 12
        }
      ]
    },
    {
      "cell_type": "code",
      "metadata": {
        "id": "p8qsK51C1Yro",
        "colab_type": "code",
        "outputId": "543655d8-603c-465d-99d7-ac14ef569486",
        "colab": {
          "base_uri": "https://localhost:8080/",
          "height": 185
        }
      },
      "source": [
        "for _ in 0..<10 {\n",
        "  print(sensitivity(of: meanQuery, with: 100, balance: 0.99))\n",
        "}\n"
      ],
      "execution_count": 13,
      "outputs": [
        {
          "output_type": "stream",
          "text": [
            "0.01\r\n",
            "0.01\r\n",
            "0.0\r\n",
            "0.01\r\n",
            "0.0\r\n",
            "0.01\r\n",
            "0.0\n",
            "0.01\n",
            "0.0\n",
            "0.0\n"
          ],
          "name": "stdout"
        }
      ]
    },
    {
      "cell_type": "markdown",
      "metadata": {
        "id": "Drpx2GAq0KEF",
        "colab_type": "text"
      },
      "source": [
        "# Project: Calculate L1 Sensitivity For Threshold"
      ]
    },
    {
      "cell_type": "code",
      "metadata": {
        "id": "eRUpopsX0LR2",
        "colab_type": "code",
        "colab": {}
      },
      "source": [
        "/// General threshold of sum func\n",
        "func threshold(_ db: Database, _ threshold: Float) -> Int {\n",
        "  let sum = db.sum()\n",
        "  return sum > threshold ? 1 : 0\n",
        "}\n",
        "\n",
        "/// Threshold is set to 5\n",
        "let threshold5Query: Query = { db in Float(threshold(db, 5)) }"
      ],
      "execution_count": 0,
      "outputs": []
    },
    {
      "cell_type": "code",
      "metadata": {
        "id": "mnWiUbFg1Ake",
        "colab_type": "code",
        "outputId": "30f7f439-f60b-42dd-a5f9-9fc82cf894bd",
        "colab": {
          "base_uri": "https://localhost:8080/",
          "height": 185
        }
      },
      "source": [
        "for _ in 0..<10 {\n",
        "  print(sensitivity(of: threshold5Query, with: 10))\n",
        "}"
      ],
      "execution_count": 15,
      "outputs": [
        {
          "output_type": "stream",
          "text": [
            "1.0\r\n",
            "0.0\r\n",
            "0.0\r\n",
            "0.0\r\n",
            "0.0\r\n",
            "0.0\r\n",
            "0.0\r\n",
            "1.0\r\n",
            "0.0\r\n",
            "0.0\r\n"
          ],
          "name": "stdout"
        }
      ]
    },
    {
      "cell_type": "code",
      "metadata": {
        "id": "IlOajzr21QJe",
        "colab_type": "code",
        "colab": {}
      },
      "source": [
        ""
      ],
      "execution_count": 0,
      "outputs": []
    },
    {
      "cell_type": "markdown",
      "metadata": {
        "id": "dW3PfUUA4hc6",
        "colab_type": "text"
      },
      "source": [
        "# Project: Perform a Differencing Attack on Row Idx 10"
      ]
    },
    {
      "cell_type": "code",
      "metadata": {
        "id": "AUZA5KYC4ihm",
        "colab_type": "code",
        "outputId": "d624da3d-ac48-47a6-8485-0d9b17ce63f8",
        "colab": {
          "base_uri": "https://localhost:8080/",
          "height": 84
        }
      },
      "source": [
        "var db = createRandomBinaryVector(of: [100])\n",
        "var idx = 10\n",
        "var pdb = createParallelDb(from: db, dropping: idx)\n",
        "\n",
        "// actual value of row with idx 10\n",
        "print(\"actual value of row with idx:\", db[idx])\n",
        "\n",
        "// sum\n",
        "print(\"retriving value with sum query:\", sumQuery(db) - sumQuery(pdb))\n",
        "\n",
        "// mean\n",
        "print(\"retriving value with mean query:\", meanQuery(db) - meanQuery(pdb))\n",
        "\n",
        "// threshold\n",
        "let actualSum = db.sum().scalar!\n",
        "let thresholdXQuery:Query = { db in Float(threshold(db, actualSum - 1)) }\n",
        "print(\"retrieving value with threshold query:\", thresholdXQuery(db) - thresholdXQuery(pdb))"
      ],
      "execution_count": 17,
      "outputs": [
        {
          "output_type": "stream",
          "text": [
            "actual value of row with idx: 0.0\r\n",
            "retriving value with sum query: 0.0\r\n",
            "retriving value with mean query: -0.0049494803\r\n",
            "retrieving value with threshold query: 0.0\r\n"
          ],
          "name": "stdout"
        }
      ]
    },
    {
      "cell_type": "code",
      "metadata": {
        "id": "WIatb6L85B5c",
        "colab_type": "code",
        "colab": {}
      },
      "source": [
        ""
      ],
      "execution_count": 0,
      "outputs": []
    },
    {
      "cell_type": "markdown",
      "metadata": {
        "id": "swWMXdtRD44S",
        "colab_type": "text"
      },
      "source": [
        "# Project: Local Differential Privacy\n"
      ]
    },
    {
      "cell_type": "code",
      "metadata": {
        "id": "-PSijvgOEEXT",
        "colab_type": "code",
        "colab": {}
      },
      "source": [
        "/// Adds random coin flips noise\n",
        "func addRandomCoinFlipNoise(to db: Database) -> Database {\n",
        "  // 1st flip (1 - answer honestly, 0 - flip 2nd time)\n",
        "  let flip1 = Tensor<Float>(Tensor(randomUniform: db.shape) .> 0.5)\n",
        "  // 2nd flip\n",
        "  let flip2 = Tensor<Float>(Tensor(randomUniform: db.shape) .> 0.5)\n",
        "  // replace real values with randoms\n",
        "  return flip1 * db + (1 - flip1) * flip2\n",
        "}"
      ],
      "execution_count": 0,
      "outputs": []
    },
    {
      "cell_type": "code",
      "metadata": {
        "id": "EXaGGqs0GTes",
        "colab_type": "code",
        "outputId": "6101069c-405a-4ccf-dcaa-cef7a73f0675",
        "colab": {
          "base_uri": "https://localhost:8080/",
          "height": 84
        }
      },
      "source": [
        "// skewed_mean (of data noised with coin flips) = orig_mean * 0.5 + noise_mean * 0.5\n",
        "// hence, orig_mean = skewed_mean * 2 - noise_mean\n",
        "let meanCoinFlipNormalizedQuery: Query = { db in db.mean().scalar! * 2 - 0.5 }\n",
        "\n",
        "for i in [10, 100, 1000, 10000] {\n",
        "  let db = createRandomBinaryVector(of: [i])\n",
        "  let privateDb = addRandomCoinFlipNoise(to: db)\n",
        "  print(\"mean query with \\(i) entries: orig: \\(meanQuery(db)), w/ noise: \\(meanCoinFlipNormalizedQuery(privateDb))\")\n",
        "\n",
        "}"
      ],
      "execution_count": 20,
      "outputs": [
        {
          "output_type": "stream",
          "text": [
            "mean query with 10 entries: orig: 0.6, w/ noise: 0.5\r\n",
            "mean query with 100 entries: orig: 0.55, w/ noise: 0.5\r\n",
            "mean query with 1000 entries: orig: 0.515, w/ noise: 0.53999996\n",
            "mean query with 10000 entries: orig: 0.4971, w/ noise: 0.48799998\n"
          ],
          "name": "stdout"
        }
      ]
    },
    {
      "cell_type": "code",
      "metadata": {
        "id": "vuy63LjNeY1w",
        "colab_type": "code",
        "colab": {}
      },
      "source": [
        ""
      ],
      "execution_count": 0,
      "outputs": []
    },
    {
      "cell_type": "markdown",
      "metadata": {
        "id": "j3F98X3DpMy9",
        "colab_type": "text"
      },
      "source": [
        "# Project: Varying Amounts of Noise\n"
      ]
    },
    {
      "cell_type": "code",
      "metadata": {
        "id": "wl5yks3cpNgJ",
        "colab_type": "code",
        "colab": {}
      },
      "source": [
        "/// Adds specific amount of random noise\n",
        "func addRandomNoise(to db: Database, amount: Float) -> Database {\n",
        "  // 1st flip (1 - answer honestly, 0 - flip 2nd time)\n",
        "  let flip1 = Tensor<Float>(Tensor(randomUniform: db.shape) .> amount)\n",
        "  // 2nd flip\n",
        "  let flip2 = Tensor<Float>(Tensor(randomUniform: db.shape) .> 0.5)\n",
        "  // replace real values with randoms\n",
        "  return flip1 * db + (1 - flip1) * flip2\n",
        "}"
      ],
      "execution_count": 0,
      "outputs": []
    },
    {
      "cell_type": "code",
      "metadata": {
        "id": "F-nKZFtorA4x",
        "colab_type": "code",
        "outputId": "7a15b72a-e891-4f2f-d012-e7fd0c1355b3",
        "colab": {
          "base_uri": "https://localhost:8080/",
          "height": 622
        }
      },
      "source": [
        "/// Return true mean value, taking noise into account\n",
        "func normalizedMean(_ db: Database, _ noiseAmount: Float, _ noiseMean: Float = 0.5) -> Float {\n",
        "  // skewed_mean (of noised data) = orig_mean * (1 - noise_amount) + noise_mean * noise_amount\n",
        "  // hence, orig_mean = (skewed_mean - noise_mean * noise_amount) / (1 - noise_amount)\n",
        "  return (db.mean().scalar! - noiseMean * noiseAmount) / (1 - noiseAmount)\n",
        "}\n",
        "\n",
        "\n",
        "for balance in [0.5, 0.7] {\n",
        "  for numEntries in [100, 1000, 10000] {\n",
        "    let db = createRandomBinaryVector(of: [numEntries], balance: Float(balance))\n",
        "    for noiseAmount:Float in [0, 0.1, 0.2, 0.4, 0.8, 0.99] {\n",
        "      let meanNormalizedQuery: Query = { db in normalizedMean(db, noiseAmount) }\n",
        "      let privateDb = addRandomNoise(to: db, amount: noiseAmount)\n",
        "      print(\"balance: \\(balance); mean, entries: \\(db.shape[0]), noise: \\(noiseAmount) - orig: \\(meanQuery(db)), w/ noise: \\(meanNormalizedQuery(privateDb))\")\n",
        "    }\n",
        "  }\n",
        "}\n"
      ],
      "execution_count": 23,
      "outputs": [
        {
          "output_type": "stream",
          "text": [
            "balance: 0.5; mean, entries: 100, noise: 0.0 - orig: 0.52, w/ noise: 0.52\r\n",
            "balance: 0.5; mean, entries: 100, noise: 0.1 - orig: 0.52, w/ noise: 0.4888889\r\n",
            "balance: 0.5; mean, entries: 100, noise: 0.2 - orig: 0.52, w/ noise: 0.5\r\n",
            "balance: 0.5; mean, entries: 100, noise: 0.4 - orig: 0.52, w/ noise: 0.5666667\r\n",
            "balance: 0.5; mean, entries: 100, noise: 0.8 - orig: 0.52, w/ noise: 0.64999986\r\n",
            "balance: 0.5; mean, entries: 100, noise: 0.99 - orig: 0.52, w/ noise: -0.5\r\n",
            "balance: 0.5; mean, entries: 1000, noise: 0.0 - orig: 0.488, w/ noise: 0.488\r\n",
            "balance: 0.5; mean, entries: 1000, noise: 0.1 - orig: 0.488, w/ noise: 0.48333335\r\n",
            "balance: 0.5; mean, entries: 1000, noise: 0.2 - orig: 0.488, w/ noise: 0.46625\r\n",
            "balance: 0.5; mean, entries: 1000, noise: 0.4 - orig: 0.488, w/ noise: 0.50166667\r\n",
            "balance: 0.5; mean, entries: 1000, noise: 0.8 - orig: 0.488, w/ noise: 0.54999995\r\n",
            "balance: 0.5; mean, entries: 1000, noise: 0.99 - orig: 0.488, w/ noise: 1.7000036\n",
            "balance: 0.5; mean, entries: 10000, noise: 0.0 - orig: 0.498, w/ noise: 0.498\n",
            "balance: 0.5; mean, entries: 10000, noise: 0.1 - orig: 0.498, w/ noise: 0.49844444\n",
            "balance: 0.5; mean, entries: 10000, noise: 0.2 - orig: 0.498, w/ noise: 0.500125\n",
            "balance: 0.5; mean, entries: 10000, noise: 0.4 - orig: 0.498, w/ noise: 0.4908333\n",
            "balance: 0.5; mean, entries: 10000, noise: 0.8 - orig: 0.498, w/ noise: 0.45700002\n",
            "balance: 0.5; mean, entries: 10000, noise: 0.99 - orig: 0.498, w/ noise: 0.31000108\n",
            "balance: 0.7; mean, entries: 100, noise: 0.0 - orig: 0.27, w/ noise: 0.27\n",
            "balance: 0.7; mean, entries: 100, noise: 0.1 - orig: 0.27, w/ noise: 0.2777778\n",
            "balance: 0.7; mean, entries: 100, noise: 0.2 - orig: 0.27, w/ noise: 0.25000003\n",
            "balance: 0.7; mean, entries: 100, noise: 0.4 - orig: 0.27, w/ noise: 0.24999997\n",
            "balance: 0.7; mean, entries: 100, noise: 0.8 - orig: 0.27, w/ noise: 0.54999995\n",
            "balance: 0.7; mean, entries: 100, noise: 0.99 - orig: 0.27, w/ noise: 1.5\n",
            "balance: 0.7; mean, entries: 1000, noise: 0.0 - orig: 0.311, w/ noise: 0.311\n",
            "balance: 0.7; mean, entries: 1000, noise: 0.1 - orig: 0.311, w/ noise: 0.3188889\n",
            "balance: 0.7; mean, entries: 1000, noise: 0.2 - orig: 0.311, w/ noise: 0.32000002\n",
            "balance: 0.7; mean, entries: 1000, noise: 0.4 - orig: 0.311, w/ noise: 0.30666664\n",
            "balance: 0.7; mean, entries: 1000, noise: 0.8 - orig: 0.311, w/ noise: 0.395\n",
            "balance: 0.7; mean, entries: 1000, noise: 0.99 - orig: 0.311, w/ noise: 1.5\n",
            "balance: 0.7; mean, entries: 10000, noise: 0.0 - orig: 0.2975, w/ noise: 0.2975\n",
            "balance: 0.7; mean, entries: 10000, noise: 0.1 - orig: 0.2975, w/ noise: 0.29833335\n",
            "balance: 0.7; mean, entries: 10000, noise: 0.2 - orig: 0.2975, w/ noise: 0.29325\n",
            "balance: 0.7; mean, entries: 10000, noise: 0.4 - orig: 0.2975, w/ noise: 0.29466665\n",
            "balance: 0.7; mean, entries: 10000, noise: 0.8 - orig: 0.2975, w/ noise: 0.30949998\n",
            "balance: 0.7; mean, entries: 10000, noise: 0.99 - orig: 0.2975, w/ noise: 0.779999\n"
          ],
          "name": "stdout"
        }
      ]
    },
    {
      "cell_type": "code",
      "metadata": {
        "id": "qpa5yGy0s4pZ",
        "colab_type": "code",
        "colab": {}
      },
      "source": [
        ""
      ],
      "execution_count": 0,
      "outputs": []
    },
    {
      "cell_type": "markdown",
      "metadata": {
        "id": "b-9T-nnEGdtk",
        "colab_type": "text"
      },
      "source": [
        "# Project: Create a Differentially Private Query\n"
      ]
    },
    {
      "cell_type": "code",
      "metadata": {
        "id": "6RwTiP2OGkM6",
        "colab_type": "code",
        "colab": {}
      },
      "source": [
        "/// Laplace distribution\n",
        "/// https://en.wikipedia.org/wiki/Laplace_distribution\n",
        "public struct LaplaceDistribution: RandomDistribution {\n",
        "    public let location: Float\n",
        "    public let scale: Float\n",
        "    private let uniformDist = UniformFloatingPointDistribution<Float>(lowerBound: -0.5, upperBound: 0.5)\n",
        "\n",
        "    public init(location: Float = 0, scale: Float = 1) {\n",
        "      self.location = location\n",
        "      self.scale = scale\n",
        "    }\n",
        "\n",
        "    public func next<G: RandomNumberGenerator>(using rng: inout G) -> Float {\n",
        "      let u = uniformDist.next(using: &rng)\n",
        "      let s = self.scale * log(1 - 2 * abs(u))\n",
        "      return u > 0 ? self.location - s : self.location + s\n",
        "    }\n",
        "}\n"
      ],
      "execution_count": 0,
      "outputs": []
    },
    {
      "cell_type": "code",
      "metadata": {
        "id": "yonD5_zjspuF",
        "colab_type": "code",
        "outputId": "9213c560-dee2-49a1-8eb6-b6a2064758e0",
        "colab": {
          "base_uri": "https://localhost:8080/",
          "height": 449
        }
      },
      "source": [
        "// let's draw LaplaceDistribution density plot \n",
        "// try to reproduce picture in https://en.wikipedia.org/wiki/Laplace_distribution\n",
        "import Python\n",
        "let plt = Python.import(\"matplotlib.pyplot\")\n",
        "let np = Python.import(\"numpy\")\n",
        "let stats = Python.import(\"scipy.stats\")\n",
        "%include \"EnableIPythonDisplay.swift\"\n",
        "IPythonDisplay.shell.enable_matplotlib(\"inline\")\n",
        "\n",
        "let samples = 100000\n",
        "let range = np.linspace(-10, 10, 300)\n",
        "var legend: [String] = []\n",
        "plt.figure(figsize: [10, 7])\n",
        "for (l, s) in [(0, 1), (0, 2), (0, 4), (-5, 4)] {\n",
        "  let ldist = LaplaceDistribution(location: Float(l), scale: Float(s))\n",
        "  var nums: [Float] = []\n",
        "  for _ in 0..<samples {\n",
        "    nums.append(ldist.next(using: &PhiloxRandomNumberGenerator.global))\n",
        "  }\n",
        "  let density = stats.gaussian_kde(np.array(nums))\n",
        "  plt.plot(range, density(range))\n",
        "  legend.append(\"μ=\\(l), b=\\(s)\")\n",
        "}\n",
        "plt.legend(legend)\n",
        "plt.show()\n"
      ],
      "execution_count": 32,
      "outputs": [
        {
          "output_type": "display_data",
          "data": {
            "image/png": "[encoded data removed]",
            "text/plain": [
              "<Figure size 720x504 with 1 Axes>"
            ]
          },
          "metadata": {
            "tags": []
          }
        },
        {
          "output_type": "execute_result",
          "data": {
            "text/plain": [
              "None\n"
            ]
          },
          "metadata": {
            "tags": []
          },
          "execution_count": 32
        }
      ]
    },
    {
      "cell_type": "code",
      "metadata": {
        "id": "jObZ90eBsnTD",
        "colab_type": "code",
        "colab": {}
      },
      "source": [
        "\n",
        "/// Add DP with given sensitivity and epsilon\n",
        "func makeDifferentiallyPrivate(value: Float, sensitivity: Float, epsilon: Float) -> Float {\n",
        "  let scale = sensitivity / epsilon\n",
        "  let dist = LaplaceDistribution(location: 0, scale: scale)\n",
        "  return value + dist.next(using: &PhiloxRandomNumberGenerator.global)\n",
        "}\n"
      ],
      "execution_count": 0,
      "outputs": []
    },
    {
      "cell_type": "code",
      "metadata": {
        "id": "d7MT6s5VUI4_",
        "colab_type": "code",
        "outputId": "2d9713ec-9bf5-4344-88d5-1c2e2553c062",
        "colab": {
          "base_uri": "https://localhost:8080/",
          "height": 185
        }
      },
      "source": [
        "for f in [\"sum\", \"mean\"] {\n",
        "  let db = createRandomBinaryVector(of: [5000])\n",
        "  for eps:Float in [0.001, 0.01, 0.1, 1, 10000] {\n",
        "    var query: (_ db: Database) -> (orig: Float, dp: Float)\n",
        "    switch (f) {\n",
        "      case \"sum\":\n",
        "        query = { db in \n",
        "          (\n",
        "             orig: sumQuery(db),\n",
        "             dp: makeDifferentiallyPrivate(value: sumQuery(db), sensitivity: 1, epsilon: eps)\n",
        "          )\n",
        "        }\n",
        "        break\n",
        "      case \"mean\":\n",
        "        query = { db in \n",
        "          (\n",
        "            orig: meanQuery(db), \n",
        "            dp: makeDifferentiallyPrivate(value: meanQuery(db), sensitivity: 1/Float(db.shape[0]), epsilon: eps)\n",
        "          )\n",
        "        }\n",
        "        break\n",
        "      default:\n",
        "        fatalError(\"don't know \\(f)\")\n",
        "        break\n",
        "    }\n",
        "\n",
        "    print(\"\\(f) with eps=\\(eps): \", query(db))\n",
        "  }\n",
        "}"
      ],
      "execution_count": 28,
      "outputs": [
        {
          "output_type": "stream",
          "text": [
            "sum with eps=0.001:  (orig: 2520.0, dp: 2120.0703)\r\n",
            "sum with eps=0.01:  (orig: 2520.0, dp: 2419.825)\r\n",
            "sum with eps=0.1:  (orig: 2520.0, dp: 2536.0552)\r\n",
            "sum with eps=1.0:  (orig: 2520.0, dp: 2520.4658)\r\n",
            "sum with eps=10000.0:  (orig: 2520.0, dp: 2520.0002)\r\n",
            "mean with eps=0.001:  (orig: 0.4964, dp: 0.61891127)\r\n",
            "mean with eps=0.01:  (orig: 0.4964, dp: 0.549329)\r\n",
            "mean with eps=0.1:  (orig: 0.4964, dp: 0.4950993)\r\n",
            "mean with eps=1.0:  (orig: 0.4964, dp: 0.4963673)\r\n",
            "mean with eps=10000.0:  (orig: 0.4964, dp: 0.4964)\r\n"
          ],
          "name": "stdout"
        }
      ]
    },
    {
      "cell_type": "code",
      "metadata": {
        "id": "j-SkgsLjpqkf",
        "colab_type": "code",
        "colab": {}
      },
      "source": [
        ""
      ],
      "execution_count": 0,
      "outputs": []
    },
    {
      "cell_type": "markdown",
      "metadata": {
        "id": "TV79ezSvaf_U",
        "colab_type": "text"
      },
      "source": [
        "# Lesson: Differential Privacy for Deep Learning\n",
        "## An Example Scenario: A Health Neural Network\n",
        "\n",
        "- 1) You'll ask each of the 10 hospitals to train a model on their own datasets (All of which have the same kinds of labels)\n",
        "- 2) You'll then use each of the 10 partner models to predict on your local dataset, generating 10 labels for each of your datapoints\n",
        "- 3) Then, for each local data point (now with 10 labels), you will perform a DP query to generate the final true label. This query is a \"max\" function, where \"max\" is the most frequent label across the 10 labels. We will need to add laplacian noise to make this Differentially Private to a certain epsilon/delta constraint.\n",
        "- 4) Finally, we will retrain a new model on our local dataset which now has labels. This will be our final \"DP\" model.\n",
        "\n",
        "So, let's walk through these steps. I will assume you're already familiar with how to train/predict a deep neural network, so we'll skip steps 1 and 2 and work with example data. We'll focus instead on step 3, namely how to perform the DP query for each example using toy data.\n",
        "\n",
        "So, let's say we have 10,000 training examples, and we've got 10 labels for each example (from our 10 \"teacher models\" which were trained directly on private data). Each label is chosen from a set of 10 possible labels (categories) for each image."
      ]
    },
    {
      "cell_type": "code",
      "metadata": {
        "id": "aOIA-hWzow62",
        "colab_type": "code",
        "colab": {}
      },
      "source": [
        "/// Return max element index\n",
        "extension Array where Array.Element: Comparable {\n",
        "  func argmax() -> Int? {\n",
        "    if let m = self.max() {\n",
        "      return self.firstIndex(of: m) ?? nil\n",
        "    }\n",
        "    return nil\n",
        "  }\n",
        "}"
      ],
      "execution_count": 0,
      "outputs": []
    },
    {
      "cell_type": "code",
      "metadata": {
        "id": "UDLLFCWjahrh",
        "colab_type": "code",
        "colab": {
          "base_uri": "https://localhost:8080/",
          "height": 34
        },
        "outputId": "d7bed746-d969-47c2-cd71-cbfdc8871536"
      },
      "source": [
        "// settings\n",
        "let hospitals = 10\n",
        "let trainingExamples = 10000\n",
        "let categories = 10\n",
        "let epsilon:Float = 0.1\n",
        "\n",
        "// fake predictions from hospitals\n",
        "var predictions = Tensor<UInt8>(Tensor<Float>(randomUniform: [trainingExamples, hospitals]) * Float(categories))\n",
        "// our final dataset calculated from hospitals' predictions\n",
        "var localDatasetDp:[UInt8] = []\n",
        "// same dataset but w/o DP\n",
        "var localDatasetRaw:[UInt8] = []\n",
        "\n",
        "\n",
        "for i in 0..<trainingExamples {\n",
        "  // count predictions frequency to select most frequent label\n",
        "  var predCounts:[Int] = Array(repeating: 0, count: categories)\n",
        "  for val in predictions[i].array {\n",
        "    predCounts[Int(val.scalar!)] += 1\n",
        "  }\n",
        "  \n",
        "  // save most frequent label w/o applying DP\n",
        "  if let result = predCounts.argmax() {\n",
        "    localDatasetRaw.append(UInt8(result))\n",
        "  }\n",
        "  \n",
        "  // apply DP for each label frequency value and save most frequent label\n",
        "  // NOTE: this is sensitity of count query \n",
        "  let result = predCounts\n",
        "    .map { makeDifferentiallyPrivate(value: Float($0), sensitivity: 1, epsilon: epsilon) }\n",
        "    .argmax()\n",
        "  if let result = result {\n",
        "    localDatasetDp.append(UInt8(result))\n",
        "  }\n",
        "}\n",
        "\n",
        "// let's check how much DP affected true argmax \n",
        "print(Tensor<Float>(Tensor(localDatasetDp) .== Tensor(localDatasetRaw)).sum().scalar! / Float(trainingExamples))\n",
        "\n"
      ],
      "execution_count": 34,
      "outputs": [
        {
          "output_type": "stream",
          "text": [
            "0.1257\r\n"
          ],
          "name": "stdout"
        }
      ]
    },
    {
      "cell_type": "code",
      "metadata": {
        "id": "f0JVl-mDaDg6",
        "colab_type": "code",
        "colab": {}
      },
      "source": [
        ""
      ],
      "execution_count": 0,
      "outputs": []
    }
  ]
}