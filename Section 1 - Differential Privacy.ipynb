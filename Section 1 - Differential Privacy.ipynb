{
  "nbformat": 4,
  "nbformat_minor": 0,
  "metadata": {
    "colab": {
      "name": "Section 1 - Differential Privacy",
      "version": "0.3.2",
      "provenance": [],
      "collapsed_sections": [],
      "include_colab_link": true
    },
    "kernelspec": {
      "name": "swift",
      "display_name": "Swift"
    }
  },
  "cells": [
    {
      "cell_type": "markdown",
      "metadata": {
        "id": "view-in-github",
        "colab_type": "text"
      },
      "source": [
        "<a href=\"https://colab.research.google.com/github/vvmnnnkv/private-ai/blob/master/Section%201%20-%20Differential%20Privacy.ipynb\" target=\"_parent\"><img src=\"https://colab.research.google.com/assets/colab-badge.svg\" alt=\"Open In Colab\"/></a>"
      ]
    },
    {
      "cell_type": "markdown",
      "metadata": {
        "id": "nsB2xXaZ0WrZ",
        "colab_type": "text"
      },
      "source": [
        "# Project: Generate Parallel Databases\n"
      ]
    },
    {
      "cell_type": "code",
      "metadata": {
        "id": "kZRlD4utdPuX",
        "colab_type": "code",
        "colab": {}
      },
      "source": [
        "import Foundation\n",
        "import TensorFlow"
      ],
      "execution_count": 0,
      "outputs": []
    },
    {
      "cell_type": "code",
      "metadata": {
        "id": "lJHb6E6cijwC",
        "colab_type": "code",
        "colab": {}
      },
      "source": [
        "typealias Database = Tensor<Float>\n",
        "typealias Query = (_ db: Database) -> Float\n",
        "\n",
        "/// Return vector of 0 and 1 from uniform distibution\n",
        "func createRandomBinaryVector(of shape: TensorShape) -> Database {\n",
        "  let dist = UniformIntegerDistribution<UInt8>(lowerBound: 0, upperBound: 1)\n",
        "  var scalars: [Float] = []\n",
        "  for _ in 0 ..< shape.contiguousSize {\n",
        "     scalars.append(Float(dist.next(using: &PhiloxRandomNumberGenerator.global)))\n",
        "  }\n",
        "  return Tensor(shape: shape, scalars: scalars)  \n",
        "}\n"
      ],
      "execution_count": 0,
      "outputs": []
    },
    {
      "cell_type": "code",
      "metadata": {
        "id": "Lxk2Imhwkqdt",
        "colab_type": "code",
        "colab": {}
      },
      "source": [
        "/// Create parallel DB from original DB\n",
        "func createParallelDb<T>(from tensor: Tensor<T>, dropping index: Int) -> Tensor<T> {\n",
        "  var top = tensor.slice(lowerBounds: [0], upperBounds: [index])\n",
        "  var bottom = tensor.slice(lowerBounds: [index + 1], upperBounds: [tensor.shape[0]])\n",
        "  return top.concatenated(with: bottom)\n",
        "}"
      ],
      "execution_count": 0,
      "outputs": []
    },
    {
      "cell_type": "code",
      "metadata": {
        "id": "9OtjnUz2tKj2",
        "colab_type": "code",
        "colab": {}
      },
      "source": [
        "/// Create all possible parallel DBs\n",
        "func createParallelDbs<T>(from tensor: Tensor<T>) -> Array<Tensor<T>> {\n",
        "  var result = Array<Tensor<T>>()\n",
        "  for i in 0 ..< tensor.shape[0] {\n",
        "    let pdb = createParallelDb(from: tensor, dropping: i)\n",
        "    result.append(pdb)\n",
        "  }\n",
        "  return result\n",
        "}"
      ],
      "execution_count": 0,
      "outputs": []
    },
    {
      "cell_type": "code",
      "metadata": {
        "id": "Rue_090IvMSA",
        "colab_type": "code",
        "colab": {}
      },
      "source": [
        "/// Create DB and parallal DBs for given number of entries\n",
        "func createDbAndParallels(entries: Int) -> (db: Database, pdbs: Array<Database>) {\n",
        "  let db = createRandomBinaryVector(of: [entries])\n",
        "  let pdbs = createParallelDbs(from: db)\n",
        "  return (db: db, pdbs: pdbs)\n",
        "}"
      ],
      "execution_count": 0,
      "outputs": []
    },
    {
      "cell_type": "code",
      "metadata": {
        "id": "NjQ3MGBtwGK4",
        "colab_type": "code",
        "colab": {}
      },
      "source": [
        "var (db, dbs) = createDbAndParallels(entries: 1000)"
      ],
      "execution_count": 0,
      "outputs": []
    },
    {
      "cell_type": "code",
      "metadata": {
        "id": "A9SGZiD0vrRG",
        "colab_type": "code",
        "colab": {
          "base_uri": "https://localhost:8080/",
          "height": 69
        },
        "outputId": "7ba9ed73-5146-484d-c4bc-537a0e7fca1a"
      },
      "source": [
        "print(db.shape)\n",
        "print(dbs.count)\n",
        "print(dbs[0].shape)"
      ],
      "execution_count": 7,
      "outputs": [
        {
          "output_type": "stream",
          "text": [
            "[1000]\r\n",
            "1000\r\n",
            "[999]\r\n"
          ],
          "name": "stdout"
        }
      ]
    },
    {
      "cell_type": "markdown",
      "metadata": {
        "id": "oV_OGDB1wFxJ",
        "colab_type": "text"
      },
      "source": [
        "# Project: Evaluating the Privacy of a Function"
      ]
    },
    {
      "cell_type": "code",
      "metadata": {
        "id": "4Z8AQURDwIXt",
        "colab_type": "code",
        "colab": {}
      },
      "source": [
        "/// Calculate empirical sensitivity of a query\n",
        "func sensitivity(of query: Query, with entries: Int) -> Float {\n",
        "  var (db, pdbs) = createDbAndParallels(entries: entries)\n",
        "  let dbQuery = query(db)\n",
        "  var maxDifference:Float = 0\n",
        "  for pdb in pdbs {\n",
        "    let pdbQuery = query(pdb)\n",
        "    let difference = abs(dbQuery - pdbQuery)\n",
        "    if (maxDifference < difference) {\n",
        "      maxDifference = difference\n",
        "    }\n",
        "  }\n",
        "  return maxDifference\n",
        "}"
      ],
      "execution_count": 0,
      "outputs": []
    },
    {
      "cell_type": "code",
      "metadata": {
        "id": "gYGsjMHUxsOe",
        "colab_type": "code",
        "colab": {}
      },
      "source": [
        "/// Sum query\n",
        "let sumQuery:Query = { db in db.sum().scalar! }"
      ],
      "execution_count": 0,
      "outputs": []
    },
    {
      "cell_type": "code",
      "metadata": {
        "id": "8KnWEG_LyWpG",
        "colab_type": "code",
        "colab": {
          "base_uri": "https://localhost:8080/",
          "height": 34
        },
        "outputId": "7c065ad0-cb7f-4e2e-d73e-ebfe50e30116"
      },
      "source": [
        "sensitivity(of: sumQuery, with: 5000)"
      ],
      "execution_count": 10,
      "outputs": [
        {
          "output_type": "execute_result",
          "data": {
            "text/plain": [
              "1.0\n"
            ]
          },
          "metadata": {
            "tags": []
          },
          "execution_count": 10
        }
      ]
    },
    {
      "cell_type": "code",
      "metadata": {
        "id": "Rj0Fn-lcy7DW",
        "colab_type": "code",
        "colab": {}
      },
      "source": [
        "/// Mean query\n",
        "let meanQuery:Query = { db in db.mean().scalar! }"
      ],
      "execution_count": 0,
      "outputs": []
    },
    {
      "cell_type": "code",
      "metadata": {
        "id": "vhFFYoMwzHS2",
        "colab_type": "code",
        "colab": {
          "base_uri": "https://localhost:8080/",
          "height": 34
        },
        "outputId": "3de5e992-d9ec-4c73-b71a-f067f7a485a0"
      },
      "source": [
        "sensitivity(of: meanQuery, with: 5000)"
      ],
      "execution_count": 15,
      "outputs": [
        {
          "output_type": "execute_result",
          "data": {
            "text/plain": [
              "0.00010162592\n"
            ]
          },
          "metadata": {
            "tags": []
          },
          "execution_count": 15
        }
      ]
    },
    {
      "cell_type": "code",
      "metadata": {
        "id": "p8qsK51C1Yro",
        "colab_type": "code",
        "colab": {
          "base_uri": "https://localhost:8080/",
          "height": 34
        },
        "outputId": "07d0c971-e497-4863-a56a-df7bdc904a01"
      },
      "source": [
        "sensitivity(of: meanQuery, with: 100)"
      ],
      "execution_count": 20,
      "outputs": [
        {
          "output_type": "execute_result",
          "data": {
            "text/plain": [
              "0.00535354\n"
            ]
          },
          "metadata": {
            "tags": []
          },
          "execution_count": 20
        }
      ]
    },
    {
      "cell_type": "markdown",
      "metadata": {
        "id": "Drpx2GAq0KEF",
        "colab_type": "text"
      },
      "source": [
        "# Project: Calculate L1 Sensitivity For Threshold"
      ]
    },
    {
      "cell_type": "code",
      "metadata": {
        "id": "eRUpopsX0LR2",
        "colab_type": "code",
        "colab": {}
      },
      "source": [
        "/// General threshold of sum func\n",
        "func threshold(_ db: Database, _ threshold: Float) -> Int {\n",
        "  let sum = db.sum()\n",
        "  return sum > threshold ? 1 : 0\n",
        "}\n",
        "\n",
        "/// Threshold is set to 5\n",
        "let threshold5Query: Query = { db in Float(threshold(db, 5)) }"
      ],
      "execution_count": 0,
      "outputs": []
    },
    {
      "cell_type": "code",
      "metadata": {
        "id": "mnWiUbFg1Ake",
        "colab_type": "code",
        "colab": {
          "base_uri": "https://localhost:8080/",
          "height": 192
        },
        "outputId": "1a69051e-db43-41e1-9f48-701dd93d9976"
      },
      "source": [
        "for _ in 0..<10 {\n",
        "  print(sensitivity(of: threshold5Query, with: 10))\n",
        "}"
      ],
      "execution_count": 18,
      "outputs": [
        {
          "output_type": "stream",
          "text": [
            "0.0\r\n",
            "1.0\r\n",
            "1.0\r\n",
            "0.0\r\n",
            "0.0\r\n",
            "1.0\r\n",
            "1.0\r\n",
            "0.0\r\n",
            "0.0\r\n",
            "1.0\r\n"
          ],
          "name": "stdout"
        }
      ]
    },
    {
      "cell_type": "code",
      "metadata": {
        "id": "IlOajzr21QJe",
        "colab_type": "code",
        "colab": {}
      },
      "source": [
        ""
      ],
      "execution_count": 0,
      "outputs": []
    }
  ]
}