{
  "nbformat": 4,
  "nbformat_minor": 0,
  "metadata": {
    "colab": {
      "name": "Section 1 - Differential Privacy",
      "version": "0.3.2",
      "provenance": [],
      "collapsed_sections": [],
      "include_colab_link": true
    },
    "kernelspec": {
      "name": "swift",
      "display_name": "Swift"
    }
  },
  "cells": [
    {
      "cell_type": "markdown",
      "metadata": {
        "id": "view-in-github",
        "colab_type": "text"
      },
      "source": [
        "<a href=\"https://colab.research.google.com/github/vvmnnnkv/private-ai/blob/master/Section_1_Differential_Privacy.ipynb\" target=\"_parent\"><img src=\"https://colab.research.google.com/assets/colab-badge.svg\" alt=\"Open In Colab\"/></a>"
      ]
    },
    {
      "cell_type": "markdown",
      "metadata": {
        "id": "nsB2xXaZ0WrZ",
        "colab_type": "text"
      },
      "source": [
        "# Project: Generate Parallel Databases\n"
      ]
    },
    {
      "cell_type": "code",
      "metadata": {
        "id": "kZRlD4utdPuX",
        "colab_type": "code",
        "colab": {}
      },
      "source": [
        "import Foundation\n",
        "import TensorFlow"
      ],
      "execution_count": 0,
      "outputs": []
    },
    {
      "cell_type": "code",
      "metadata": {
        "id": "lJHb6E6cijwC",
        "colab_type": "code",
        "colab": {}
      },
      "source": [
        "typealias Database = Tensor<Float>\n",
        "typealias Query = (_ db: Database) -> Float\n",
        "\n",
        "/// Return vector of 0 and 1 from uniform distibution\n",
        "func createRandomBinaryVector(of shape: TensorShape, balance: Float? = 0.5) -> Database {\n",
        "  return Tensor<Float>(Tensor(randomUniform: shape) .> (balance ?? 0.5))\n",
        "}\n"
      ],
      "execution_count": 0,
      "outputs": []
    },
    {
      "cell_type": "code",
      "metadata": {
        "id": "Lxk2Imhwkqdt",
        "colab_type": "code",
        "colab": {}
      },
      "source": [
        "/// Create parallel DB from original DB\n",
        "func createParallelDb<T>(from tensor: Tensor<T>, dropping index: Int) -> Tensor<T> {\n",
        "  var top = tensor.slice(lowerBounds: [0], upperBounds: [index])\n",
        "  var bottom = tensor.slice(lowerBounds: [index + 1], upperBounds: [tensor.shape[0]])\n",
        "  return top.concatenated(with: bottom)\n",
        "}"
      ],
      "execution_count": 0,
      "outputs": []
    },
    {
      "cell_type": "code",
      "metadata": {
        "id": "9OtjnUz2tKj2",
        "colab_type": "code",
        "colab": {}
      },
      "source": [
        "/// Create all possible parallel DBs\n",
        "func createParallelDbs<T>(from tensor: Tensor<T>) -> Array<Tensor<T>> {\n",
        "  var result = Array<Tensor<T>>()\n",
        "  for i in 0 ..< tensor.shape[0] {\n",
        "    let pdb = createParallelDb(from: tensor, dropping: i)\n",
        "    result.append(pdb)\n",
        "  }\n",
        "  return result\n",
        "}"
      ],
      "execution_count": 0,
      "outputs": []
    },
    {
      "cell_type": "code",
      "metadata": {
        "id": "Rue_090IvMSA",
        "colab_type": "code",
        "colab": {}
      },
      "source": [
        "/// Create DB and parallal DBs for given number of entries\n",
        "func createDbAndParallels(entries: Int, balance: Float? = 0.5) -> (db: Database, pdbs: Array<Database>) {\n",
        "  let db = createRandomBinaryVector(of: [entries], balance: balance)\n",
        "  let pdbs = createParallelDbs(from: db)\n",
        "  return (db: db, pdbs: pdbs)\n",
        "}"
      ],
      "execution_count": 0,
      "outputs": []
    },
    {
      "cell_type": "code",
      "metadata": {
        "id": "NjQ3MGBtwGK4",
        "colab_type": "code",
        "colab": {}
      },
      "source": [
        "var (db, dbs) = createDbAndParallels(entries: 1000)"
      ],
      "execution_count": 0,
      "outputs": []
    },
    {
      "cell_type": "code",
      "metadata": {
        "id": "A9SGZiD0vrRG",
        "colab_type": "code",
        "colab": {
          "base_uri": "https://localhost:8080/",
          "height": 68
        },
        "outputId": "3302922b-eb49-4162-9f9d-f6bf33443e07"
      },
      "source": [
        "print(db.shape)\n",
        "print(dbs.count)\n",
        "print(dbs[0].shape)"
      ],
      "execution_count": 7,
      "outputs": [
        {
          "output_type": "stream",
          "text": [
            "[1000]\r\n",
            "1000\r\n",
            "[999]\r\n"
          ],
          "name": "stdout"
        }
      ]
    },
    {
      "cell_type": "markdown",
      "metadata": {
        "id": "oV_OGDB1wFxJ",
        "colab_type": "text"
      },
      "source": [
        "# Project: Evaluating the Privacy of a Function"
      ]
    },
    {
      "cell_type": "code",
      "metadata": {
        "id": "4Z8AQURDwIXt",
        "colab_type": "code",
        "colab": {}
      },
      "source": [
        "/// Calculate empirical sensitivity of a query\n",
        "func sensitivity(of query: Query, with entries: Int, balance: Float? = 0.5) -> Float {\n",
        "  var (db, pdbs) = createDbAndParallels(entries: entries, balance: balance)\n",
        "  let dbQuery = query(db)\n",
        "  var maxDifference:Float = 0\n",
        "  for pdb in pdbs {\n",
        "    let pdbQuery = query(pdb)\n",
        "    let difference = abs(dbQuery - pdbQuery)\n",
        "    if (maxDifference < difference) {\n",
        "      maxDifference = difference\n",
        "    }\n",
        "  }\n",
        "  return maxDifference\n",
        "}"
      ],
      "execution_count": 0,
      "outputs": []
    },
    {
      "cell_type": "code",
      "metadata": {
        "id": "gYGsjMHUxsOe",
        "colab_type": "code",
        "colab": {}
      },
      "source": [
        "/// Sum query\n",
        "let sumQuery:Query = { db in db.sum().scalar! }"
      ],
      "execution_count": 0,
      "outputs": []
    },
    {
      "cell_type": "code",
      "metadata": {
        "id": "8KnWEG_LyWpG",
        "colab_type": "code",
        "colab": {
          "base_uri": "https://localhost:8080/",
          "height": 34
        },
        "outputId": "fb55ecf9-ebaa-49cb-c6eb-6dac61e40e0f"
      },
      "source": [
        "sensitivity(of: sumQuery, with: 5000)"
      ],
      "execution_count": 10,
      "outputs": [
        {
          "output_type": "execute_result",
          "data": {
            "text/plain": [
              "1.0\n"
            ]
          },
          "metadata": {
            "tags": []
          },
          "execution_count": 10
        }
      ]
    },
    {
      "cell_type": "code",
      "metadata": {
        "id": "Rj0Fn-lcy7DW",
        "colab_type": "code",
        "colab": {}
      },
      "source": [
        "/// Mean query\n",
        "let meanQuery:Query = { db in db.mean().scalar! }"
      ],
      "execution_count": 0,
      "outputs": []
    },
    {
      "cell_type": "code",
      "metadata": {
        "id": "vhFFYoMwzHS2",
        "colab_type": "code",
        "colab": {
          "base_uri": "https://localhost:8080/",
          "height": 34
        },
        "outputId": "1505b295-8bec-4370-9e26-83b4ddece222"
      },
      "source": [
        "sensitivity(of: meanQuery, with: 5000, balance: 0.5)"
      ],
      "execution_count": 12,
      "outputs": [
        {
          "output_type": "execute_result",
          "data": {
            "text/plain": [
              "0.00010022521\n"
            ]
          },
          "metadata": {
            "tags": []
          },
          "execution_count": 12
        }
      ]
    },
    {
      "cell_type": "code",
      "metadata": {
        "id": "p8qsK51C1Yro",
        "colab_type": "code",
        "colab": {
          "base_uri": "https://localhost:8080/",
          "height": 187
        },
        "outputId": "2fee44b5-92c7-4f86-e74c-9825f4116778"
      },
      "source": [
        "for _ in 0..<10 {\n",
        "  print(sensitivity(of: meanQuery, with: 100, balance: 0.99))\n",
        "}\n"
      ],
      "execution_count": 13,
      "outputs": [
        {
          "output_type": "stream",
          "text": [
            "0.0\r\n",
            "0.0\r\n",
            "0.01\r\n",
            "0.009898989\r\n",
            "0.009696968\r\n",
            "0.009797979\n",
            "0.0\n",
            "0.009797979\n",
            "0.01\n",
            "0.009696968\n"
          ],
          "name": "stdout"
        }
      ]
    },
    {
      "cell_type": "markdown",
      "metadata": {
        "id": "Drpx2GAq0KEF",
        "colab_type": "text"
      },
      "source": [
        "# Project: Calculate L1 Sensitivity For Threshold"
      ]
    },
    {
      "cell_type": "code",
      "metadata": {
        "id": "eRUpopsX0LR2",
        "colab_type": "code",
        "colab": {}
      },
      "source": [
        "/// General threshold of sum func\n",
        "func threshold(_ db: Database, _ threshold: Float) -> Int {\n",
        "  let sum = db.sum()\n",
        "  return sum > threshold ? 1 : 0\n",
        "}\n",
        "\n",
        "/// Threshold is set to 5\n",
        "let threshold5Query: Query = { db in Float(threshold(db, 5)) }"
      ],
      "execution_count": 0,
      "outputs": []
    },
    {
      "cell_type": "code",
      "metadata": {
        "id": "mnWiUbFg1Ake",
        "colab_type": "code",
        "colab": {
          "base_uri": "https://localhost:8080/",
          "height": 187
        },
        "outputId": "36e45aed-2872-4e7b-89d4-84731595d9c2"
      },
      "source": [
        "for _ in 0..<10 {\n",
        "  print(sensitivity(of: threshold5Query, with: 10))\n",
        "}"
      ],
      "execution_count": 15,
      "outputs": [
        {
          "output_type": "stream",
          "text": [
            "0.0\r\n",
            "0.0\r\n",
            "0.0\r\n",
            "0.0\r\n",
            "0.0\r\n",
            "1.0\r\n",
            "0.0\r\n",
            "0.0\r\n",
            "1.0\r\n",
            "0.0\r\n"
          ],
          "name": "stdout"
        }
      ]
    },
    {
      "cell_type": "code",
      "metadata": {
        "id": "IlOajzr21QJe",
        "colab_type": "code",
        "colab": {}
      },
      "source": [
        ""
      ],
      "execution_count": 0,
      "outputs": []
    },
    {
      "cell_type": "markdown",
      "metadata": {
        "id": "dW3PfUUA4hc6",
        "colab_type": "text"
      },
      "source": [
        "# Project: Perform a Differencing Attack on Row Idx 10"
      ]
    },
    {
      "cell_type": "code",
      "metadata": {
        "id": "AUZA5KYC4ihm",
        "colab_type": "code",
        "colab": {
          "base_uri": "https://localhost:8080/",
          "height": 85
        },
        "outputId": "bbe0db6a-fad3-449a-f7ec-88cda781ae4c"
      },
      "source": [
        "var db = createRandomBinaryVector(of: [100])\n",
        "var idx = 10\n",
        "var pdb = createParallelDb(from: db, dropping: idx)\n",
        "\n",
        "// actual value of row with idx 10\n",
        "print(\"actual value of row with idx:\", db[idx])\n",
        "\n",
        "// sum\n",
        "print(\"retriving value with sum query:\", sumQuery(db) - sumQuery(pdb))\n",
        "\n",
        "// mean\n",
        "print(\"retriving value with mean query:\", meanQuery(db) - meanQuery(pdb))\n",
        "\n",
        "// threshold\n",
        "let actualSum = db.sum().scalar!\n",
        "let thresholdXQuery:Query = { db in Float(threshold(db, actualSum - 1)) }\n",
        "print(\"retrieving value with threshold query:\", thresholdXQuery(db) - thresholdXQuery(pdb))"
      ],
      "execution_count": 17,
      "outputs": [
        {
          "output_type": "stream",
          "text": [
            "actual value of row with idx: 1.0\r\n",
            "retriving value with sum query: 1.0\r\n",
            "retriving value with mean query: 0.0047474504\r\n",
            "retrieving value with threshold query: 1.0\r\n"
          ],
          "name": "stdout"
        }
      ]
    },
    {
      "cell_type": "code",
      "metadata": {
        "id": "WIatb6L85B5c",
        "colab_type": "code",
        "colab": {}
      },
      "source": [
        ""
      ],
      "execution_count": 0,
      "outputs": []
    },
    {
      "cell_type": "markdown",
      "metadata": {
        "id": "swWMXdtRD44S",
        "colab_type": "text"
      },
      "source": [
        "# Project: Local Differential Privacy\n"
      ]
    },
    {
      "cell_type": "code",
      "metadata": {
        "id": "-PSijvgOEEXT",
        "colab_type": "code",
        "colab": {}
      },
      "source": [
        "/// Adds random coin flips noise\n",
        "func addRandomCoinFlipNoise(to db: Database) -> Database {\n",
        "  // 1st flip (1 - answer honestly, 0 - flip 2nd time)\n",
        "  let flip1 = Tensor<Float>(Tensor(randomUniform: db.shape) .> 0.5)\n",
        "  // 2nd flip\n",
        "  let flip2 = Tensor<Float>(Tensor(randomUniform: db.shape) .> 0.5)\n",
        "  // replace real values with randoms\n",
        "  return flip1 * db + (1 - flip1) * flip2\n",
        "}"
      ],
      "execution_count": 0,
      "outputs": []
    },
    {
      "cell_type": "code",
      "metadata": {
        "id": "EXaGGqs0GTes",
        "colab_type": "code",
        "colab": {
          "base_uri": "https://localhost:8080/",
          "height": 85
        },
        "outputId": "f96600b3-32e1-4a55-9541-44267046e983"
      },
      "source": [
        "// skewed_mean (of data noised with coin flips) = orig_mean * 0.5 + noise_mean * 0.5\n",
        "// hence, orig_mean = skewed_mean * 2 - noise_mean\n",
        "let meanCoinFlipNormalizedQuery: Query = { db in db.mean().scalar! * 2 - 0.5 }\n",
        "\n",
        "for i in [10, 100, 1000, 10000] {\n",
        "  let db = createRandomBinaryVector(of: [i])\n",
        "  let privateDb = addRandomCoinFlipNoise(to: db)\n",
        "  print(\"mean query with \\(i) entries: orig: \\(meanQuery(db)), w/ noise: \\(meanCoinFlipNormalizedQuery(privateDb))\")\n",
        "\n",
        "}"
      ],
      "execution_count": 20,
      "outputs": [
        {
          "output_type": "stream",
          "text": [
            "mean query with 10 entries: orig: 0.2, w/ noise: -0.099999994\r\n",
            "mean query with 100 entries: orig: 0.54, w/ noise: 0.52\r\n",
            "mean query with 1000 entries: orig: 0.514, w/ noise: 0.49400002\n",
            "mean query with 10000 entries: orig: 0.498, w/ noise: 0.49699998\n"
          ],
          "name": "stdout"
        }
      ]
    },
    {
      "cell_type": "code",
      "metadata": {
        "id": "vuy63LjNeY1w",
        "colab_type": "code",
        "colab": {}
      },
      "source": [
        ""
      ],
      "execution_count": 0,
      "outputs": []
    },
    {
      "cell_type": "markdown",
      "metadata": {
        "id": "j3F98X3DpMy9",
        "colab_type": "text"
      },
      "source": [
        "# Project: Varying Amounts of Noise\n"
      ]
    },
    {
      "cell_type": "code",
      "metadata": {
        "id": "wl5yks3cpNgJ",
        "colab_type": "code",
        "colab": {}
      },
      "source": [
        "/// Adds specific amount of random noise\n",
        "func addRandomNoise(to db: Database, amount: Float) -> Database {\n",
        "  // 1st flip (1 - answer honestly, 0 - flip 2nd time)\n",
        "  let flip1 = Tensor<Float>(Tensor(randomUniform: db.shape) .> amount)\n",
        "  // 2nd flip\n",
        "  let flip2 = Tensor<Float>(Tensor(randomUniform: db.shape) .> 0.5)\n",
        "  // replace real values with randoms\n",
        "  return flip1 * db + (1 - flip1) * flip2\n",
        "}"
      ],
      "execution_count": 0,
      "outputs": []
    },
    {
      "cell_type": "code",
      "metadata": {
        "id": "F-nKZFtorA4x",
        "colab_type": "code",
        "colab": {
          "base_uri": "https://localhost:8080/",
          "height": 629
        },
        "outputId": "1ccb74dc-3cb3-499c-a431-bd99d2388acc"
      },
      "source": [
        "/// Return true mean value, taking noise into account\n",
        "func normalizedMean(_ db: Database, _ noiseAmount: Float, _ noiseMean: Float = 0.5) -> Float {\n",
        "  // skewed_mean (of noised data) = orig_mean * (1 - noise_amount) + noise_mean * noise_amount\n",
        "  // hence, orig_mean = (skewed_mean - noise_mean * noise_amount) / (1 - noise_amount)\n",
        "  return (db.mean().scalar! - noiseMean * noiseAmount) / (1 - noiseAmount)\n",
        "}\n",
        "\n",
        "\n",
        "for balance in [0.5, 0.7] {\n",
        "  for numEntries in [100, 1000, 10000] {\n",
        "    let db = createRandomBinaryVector(of: [numEntries], balance: Float(balance))\n",
        "    for noiseAmount:Float in [0, 0.1, 0.2, 0.4, 0.8, 0.99] {\n",
        "      let meanNormalizedQuery: Query = { db in normalizedMean(db, noiseAmount) }\n",
        "      let privateDb = addRandomNoise(to: db, amount: noiseAmount)\n",
        "      print(\"balance: \\(balance); mean, entries: \\(db.shape[0]), noise: \\(noiseAmount) - orig: \\(meanQuery(db)), w/ noise: \\(meanNormalizedQuery(privateDb))\")\n",
        "    }\n",
        "  }\n",
        "}\n"
      ],
      "execution_count": 23,
      "outputs": [
        {
          "output_type": "stream",
          "text": [
            "balance: 0.5; mean, entries: 100, noise: 0.0 - orig: 0.48, w/ noise: 0.48\r\n",
            "balance: 0.5; mean, entries: 100, noise: 0.1 - orig: 0.48, w/ noise: 0.47777778\r\n",
            "balance: 0.5; mean, entries: 100, noise: 0.2 - orig: 0.48, w/ noise: 0.5\r\n",
            "balance: 0.5; mean, entries: 100, noise: 0.4 - orig: 0.48, w/ noise: 0.31666663\r\n",
            "balance: 0.5; mean, entries: 100, noise: 0.8 - orig: 0.48, w/ noise: 0.24999993\r\n",
            "balance: 0.5; mean, entries: 100, noise: 0.99 - orig: 0.48, w/ noise: -3.500003\r\n",
            "balance: 0.5; mean, entries: 1000, noise: 0.0 - orig: 0.504, w/ noise: 0.504\r\n",
            "balance: 0.5; mean, entries: 1000, noise: 0.1 - orig: 0.504, w/ noise: 0.5077778\r\n",
            "balance: 0.5; mean, entries: 1000, noise: 0.2 - orig: 0.504, w/ noise: 0.51500005\r\n",
            "balance: 0.5; mean, entries: 1000, noise: 0.4 - orig: 0.504, w/ noise: 0.555\r\n",
            "balance: 0.5; mean, entries: 1000, noise: 0.8 - orig: 0.504, w/ noise: 0.64999986\r\n",
            "balance: 0.5; mean, entries: 1000, noise: 0.99 - orig: 0.504, w/ noise: -0.8000024\n",
            "balance: 0.5; mean, entries: 10000, noise: 0.0 - orig: 0.4956, w/ noise: 0.4956\n",
            "balance: 0.5; mean, entries: 10000, noise: 0.1 - orig: 0.4956, w/ noise: 0.49711108\n",
            "balance: 0.5; mean, entries: 10000, noise: 0.2 - orig: 0.4956, w/ noise: 0.495\n",
            "balance: 0.5; mean, entries: 10000, noise: 0.4 - orig: 0.4956, w/ noise: 0.49650002\n",
            "balance: 0.5; mean, entries: 10000, noise: 0.8 - orig: 0.4956, w/ noise: 0.52000004\n",
            "balance: 0.5; mean, entries: 10000, noise: 0.99 - orig: 0.4956, w/ noise: 1.779999\n",
            "balance: 0.7; mean, entries: 100, noise: 0.0 - orig: 0.22, w/ noise: 0.22\n",
            "balance: 0.7; mean, entries: 100, noise: 0.1 - orig: 0.22, w/ noise: 0.17777778\n",
            "balance: 0.7; mean, entries: 100, noise: 0.2 - orig: 0.22, w/ noise: 0.2375\n",
            "balance: 0.7; mean, entries: 100, noise: 0.4 - orig: 0.22, w/ noise: 0.18333332\n",
            "balance: 0.7; mean, entries: 100, noise: 0.8 - orig: 0.22, w/ noise: 0.30000004\n",
            "balance: 0.7; mean, entries: 100, noise: 0.99 - orig: 0.22, w/ noise: 6.500006\n",
            "balance: 0.7; mean, entries: 1000, noise: 0.0 - orig: 0.3, w/ noise: 0.3\n",
            "balance: 0.7; mean, entries: 1000, noise: 0.1 - orig: 0.3, w/ noise: 0.3011111\n",
            "balance: 0.7; mean, entries: 1000, noise: 0.2 - orig: 0.3, w/ noise: 0.29625002\n",
            "balance: 0.7; mean, entries: 1000, noise: 0.4 - orig: 0.3, w/ noise: 0.2533333\n",
            "balance: 0.7; mean, entries: 1000, noise: 0.8 - orig: 0.3, w/ noise: 0.42500007\n",
            "balance: 0.7; mean, entries: 1000, noise: 0.99 - orig: 0.3, w/ noise: -0.8000024\n",
            "balance: 0.7; mean, entries: 10000, noise: 0.0 - orig: 0.2897, w/ noise: 0.2897\n",
            "balance: 0.7; mean, entries: 10000, noise: 0.1 - orig: 0.2897, w/ noise: 0.29144442\n",
            "balance: 0.7; mean, entries: 10000, noise: 0.2 - orig: 0.2897, w/ noise: 0.29037502\n",
            "balance: 0.7; mean, entries: 10000, noise: 0.4 - orig: 0.2897, w/ noise: 0.284\n",
            "balance: 0.7; mean, entries: 10000, noise: 0.8 - orig: 0.2897, w/ noise: 0.3195\n",
            "balance: 0.7; mean, entries: 10000, noise: 0.99 - orig: 0.2897, w/ noise: 0.25999868\n"
          ],
          "name": "stdout"
        }
      ]
    },
    {
      "cell_type": "code",
      "metadata": {
        "id": "qpa5yGy0s4pZ",
        "colab_type": "code",
        "colab": {}
      },
      "source": [
        ""
      ],
      "execution_count": 0,
      "outputs": []
    },
    {
      "cell_type": "markdown",
      "metadata": {
        "id": "b-9T-nnEGdtk",
        "colab_type": "text"
      },
      "source": [
        "# Project: Create a Differentially Private Query\n"
      ]
    },
    {
      "cell_type": "code",
      "metadata": {
        "id": "6RwTiP2OGkM6",
        "colab_type": "code",
        "colab": {}
      },
      "source": [
        "/// Laplace distribution\n",
        "/// https://en.wikipedia.org/wiki/Laplace_distribution\n",
        "public struct LaplaceDistribution: RandomDistribution {\n",
        "    public let location: Float\n",
        "    public let scale: Float\n",
        "    private let uniformDist = UniformFloatingPointDistribution<Float>(lowerBound: -0.5, upperBound: 0.5)\n",
        "\n",
        "    public init(location: Float = 0, scale: Float = 1) {\n",
        "      self.location = location\n",
        "      self.scale = scale\n",
        "    }\n",
        "\n",
        "    public func next<G: RandomNumberGenerator>(using rng: inout G) -> Float {\n",
        "      let u = uniformDist.next(using: &rng)\n",
        "      let s = self.scale * log(1 - 2 * abs(u))\n",
        "      return u > 0 ? self.location - s : self.location + s\n",
        "    }\n",
        "}\n"
      ],
      "execution_count": 0,
      "outputs": []
    },
    {
      "cell_type": "code",
      "metadata": {
        "id": "yonD5_zjspuF",
        "colab_type": "code",
        "colab": {
          "base_uri": "https://localhost:8080/",
          "height": 449
        },
        "outputId": "9d60a3ad-871e-4d77-c151-b96f66952023"
      },
      "source": [
        "// let's draw LaplaceDistribution density plot \n",
        "// try to reproduce picture in https://en.wikipedia.org/wiki/Laplace_distribution\n",
        "import Python\n",
        "let plt = Python.import(\"matplotlib.pyplot\")\n",
        "let np = Python.import(\"numpy\")\n",
        "let stats = Python.import(\"scipy.stats\")\n",
        "%include \"EnableIPythonDisplay.swift\"\n",
        "IPythonDisplay.shell.enable_matplotlib(\"inline\")\n",
        "\n",
        "let samples = 100000\n",
        "let range = np.linspace(-10, 10, 300)\n",
        "var legend: [String] = []\n",
        "plt.figure(figsize: [10, 7])\n",
        "for (l, s) in [(0, 1), (0, 2), (0, 4), (-5, 4)] {\n",
        "  let ldist = LaplaceDistribution(location: Float(l), scale: Float(s))\n",
        "  var nums: [Float] = []\n",
        "  for _ in 0..<samples {\n",
        "    nums.append(ldist.next(using: &PhiloxRandomNumberGenerator.global))\n",
        "  }\n",
        "  let density = stats.gaussian_kde(np.array(nums))\n",
        "  plt.plot(range, density(range))\n",
        "  legend.append(\"μ=\\(l), b=\\(s)\")\n",
        "}\n",
        "plt.legend(legend)\n",
        "plt.show()\n"
      ],
      "execution_count": 30,
      "outputs": [
        {
          "output_type": "display_data",
          "data": {
            "image/png": "[encoded data removed]",
            "text/plain": [
              "<Figure size 720x504 with 1 Axes>"
            ]
          },
          "metadata": {
            "tags": []
          }
        },
        {
          "output_type": "execute_result",
          "data": {
            "text/plain": [
              "None\n"
            ]
          },
          "metadata": {
            "tags": []
          },
          "execution_count": 30
        }
      ]
    },
    {
      "cell_type": "code",
      "metadata": {
        "id": "jObZ90eBsnTD",
        "colab_type": "code",
        "colab": {}
      },
      "source": [
        "typealias EpsilonDPQuery = (_ db: Database, _ epsilon: Float) -> Float\n",
        "\n",
        "let sumDPQuery: EpsilonDPQuery = { db, epsilon in\n",
        "  let sensivity:Float = 1\n",
        "  let scale = sensivity / epsilon\n",
        "  let dist = LaplaceDistribution(location: 0, scale: scale)\n",
        "  return sumQuery(db) + dist.next(using: &PhiloxRandomNumberGenerator.global)\n",
        "}\n",
        "\n",
        "let meanDPQuery: EpsilonDPQuery = { db, epsilon in \n",
        "  let sensivity:Float = 1 / Float(db.shape[0])\n",
        "  let scale = sensivity / epsilon\n",
        "  let dist = LaplaceDistribution(location: 0, scale: scale)\n",
        "  return meanQuery(db) + dist.next(using: &PhiloxRandomNumberGenerator.global)\n",
        "}"
      ],
      "execution_count": 0,
      "outputs": []
    },
    {
      "cell_type": "code",
      "metadata": {
        "id": "d7MT6s5VUI4_",
        "colab_type": "code",
        "colab": {
          "base_uri": "https://localhost:8080/",
          "height": 187
        },
        "outputId": "1cd755a4-8bce-4ac5-a643-1aab2ba65072"
      },
      "source": [
        "for f in [\"sum\", \"mean\"] {\n",
        "  let db = createRandomBinaryVector(of: [5000])\n",
        "  for eps:Float in [0.001, 0.01, 0.1, 1, 10000] {\n",
        "    var query: (_ db: Database) -> (orig: Float, dp: Float)\n",
        "    switch (f) {\n",
        "      case \"sum\":\n",
        "        query = { db in (orig: sumQuery(db), dp: sumDPQuery(db, eps)) }\n",
        "        break\n",
        "      case \"mean\":\n",
        "        query = { db in (orig: meanQuery(db), dp: meanDPQuery(db, eps)) }\n",
        "        break\n",
        "      default:\n",
        "        fatalError(\"don't know \\(f)\")\n",
        "        break\n",
        "    }\n",
        "\n",
        "    print(\"\\(f) with eps=\\(eps): \", query(db))\n",
        "  }\n",
        "}"
      ],
      "execution_count": 28,
      "outputs": [
        {
          "output_type": "stream",
          "text": [
            "sum with eps=0.001:  (orig: 2531.0, dp: 3604.1633)\r\n",
            "sum with eps=0.01:  (orig: 2531.0, dp: 2491.4502)\r\n",
            "sum with eps=0.1:  (orig: 2531.0, dp: 2517.6982)\n",
            "sum with eps=1.0:  (orig: 2531.0, dp: 2530.9849)\n",
            "sum with eps=10000.0:  (orig: 2531.0, dp: 2531.0)\n",
            "mean with eps=0.001:  (orig: 0.5044, dp: 0.40109968)\n",
            "mean with eps=0.01:  (orig: 0.5044, dp: 0.44753224)\n",
            "mean with eps=0.1:  (orig: 0.5044, dp: 0.50114363)\n",
            "mean with eps=1.0:  (orig: 0.5044, dp: 0.5038255)\n",
            "mean with eps=10000.0:  (orig: 0.5044, dp: 0.5044)\n"
          ],
          "name": "stdout"
        }
      ]
    },
    {
      "cell_type": "code",
      "metadata": {
        "id": "j-SkgsLjpqkf",
        "colab_type": "code",
        "colab": {}
      },
      "source": [
        ""
      ],
      "execution_count": 0,
      "outputs": []
    }
  ]
}